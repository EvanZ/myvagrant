{
 "cells": [
  {
   "cell_type": "code",
   "execution_count": 31,
   "metadata": {
    "collapsed": false
   },
   "outputs": [
    {
     "name": "stdout",
     "output_type": "stream",
     "text": [
      "Populating the interactive namespace from numpy and matplotlib\n"
     ]
    }
   ],
   "source": [
    "%pylab inline\n",
    "import json\n",
    "import arrow"
   ]
  },
  {
   "cell_type": "code",
   "execution_count": 34,
   "metadata": {
    "collapsed": false
   },
   "outputs": [
    {
     "name": "stdout",
     "output_type": "stream",
     "text": [
      "<module 'arrow' from '/Library/Python/2.7/site-packages/arrow/__init__.pyc'>\n"
     ]
    }
   ],
   "source": [
    "print(arrow)"
   ]
  },
  {
   "cell_type": "code",
   "execution_count": 114,
   "metadata": {
    "collapsed": false
   },
   "outputs": [
    {
     "name": "stdout",
     "output_type": "stream",
     "text": [
      "{\"msg\":{\"checkeduserid\":89533778,\"userid\":87704905,\"id\":6204176352,\"datetime\":1435856400000},\"dt\":1435856403701,\"rk\":[\"check\"]}\n",
      "[((86938444, 53269301), 1), ((72762129, 61384378), 1), ((78105511, 53574369), 1), ((80293049, 76458212), 1), ((78409737, 72029930), 1)]\n"
     ]
    }
   ],
   "source": [
    "path = '/Users/evanzamir/Downloads/'\n",
    "checks = sc.textFile(\"{}\".format(path + 'check_*.txt'))\n",
    "print(checks.first())\n",
    "checks_json = (checks\n",
    "              .map(lambda line: json.loads(line)['msg'])\n",
    "              .map(lambda jsn: ((jsn['userid'], \n",
    "                                jsn['checkeduserid']), 1))\n",
    "              .distinct()\n",
    "              .cache())\n",
    "print(checks_json.take(5))"
   ]
  },
  {
   "cell_type": "code",
   "execution_count": 98,
   "metadata": {
    "collapsed": false
   },
   "outputs": [
    {
     "name": "stdout",
     "output_type": "stream",
     "text": [
      "{\"msg\":{\"resultLongitude\":-66.044,\"searchId\":\"4aef30a4-4050-42dc-8ccd-9a7a2468e42d\",\"querySearchName\":null,\"queryGender\":1,\"querySearchlevel\":6,\"userId\":57141829,\"queryHasPicture\":false,\"datetime\":1435856400230,\"queryOnlineStatus\":false,\"queryOffset\":0,\"queryMinAge\":26,\"queryLatitude\":18.423,\"isTravelling\":false,\"resultUserId\":66753534,\"queryLimit\":44,\"queryMaxAge\":34,\"queryEthnicityMulti\":null,\"queryLongitude\":-66.137,\"resultPositionInGrid\":28,\"resultLatitude\":18.241,\"queryInterestedIn\":2,\"resultLastSeen\":1435856321000,\"resultIsOnline\":true,\"resultIsTravelling\":false},\"dt\":1435856400609,\"rk\":[\"usersearch\",\"result\"]}\n",
      "((57141829, 66753534), 28)\n"
     ]
    }
   ],
   "source": [
    "path = '/Users/evanzamir/Downloads/'\n",
    "searches = sc.textFile(\"{}\".format(path + 'usersearch_*.txt'))\n",
    "print(searches.first())\n",
    "searches_json = (searches\n",
    "                  .map(lambda line: json.loads(line)['msg'])\n",
    "                  .map(lambda jsn: ((jsn['userId'], \n",
    "                                    jsn['resultUserId']),\n",
    "                                    jsn['resultPositionInGrid']))\n",
    "                  .cache())\n",
    "print(searches_json.first())"
   ]
  },
  {
   "cell_type": "code",
   "execution_count": 136,
   "metadata": {
    "collapsed": false
   },
   "outputs": [
    {
     "name": "stdout",
     "output_type": "stream",
     "text": [
      "[((84287524, 89762402), (256, 1)), ((72679795, 89445319), (10, 1)), ((88910635, 87111295), (14, 1)), ((62160625, 89572733), (18, 1)), ((71243141, 84095921), (6, 1)), ((73487082, 88565648), (2, 1)), ((87134278, 89945500), (0, 1)), ((87134278, 89945500), (1, 1)), ((87134278, 89945500), (52, 1)), ((62806787, 86759479), (46, 1))]\n",
      "681944 impressions; 15943 profile views; 2.33787525075% checked\n"
     ]
    }
   ],
   "source": [
    "# search_checks_jn = searches_json.rightOuterJoin(checks_json).cache()\n",
    "print(search_checks_jn.filter(lambda (key, (pos, res)): pos is not None).take(10))\n",
    "impressions = (search_checks_jn\n",
    "              .distinct()\n",
    "              .count())\n",
    "profile_views = (search_checks_jn\n",
    "                .filter(lambda (key, (pos, res)): pos is not None)\n",
    "                .distinct()\n",
    "                .count())\n",
    "print(\"{} impressions; {} profile views; {}% checked\".format(impressions, profile_views, 100.0*profile_views/impressions))"
   ]
  },
  {
   "cell_type": "code",
   "execution_count": 138,
   "metadata": {
    "collapsed": false
   },
   "outputs": [
    {
     "name": "stdout",
     "output_type": "stream",
     "text": [
      "678080\n",
      "441951\n"
     ]
    }
   ],
   "source": [
    "print(checks_json.count())\n",
    "print(searches_json.count())"
   ]
  },
  {
   "cell_type": "code",
   "execution_count": 144,
   "metadata": {
    "collapsed": false
   },
   "outputs": [],
   "source": [
    "search_checks_jn.saveAsTextFile('/Users/evanzamir/Downloads/search_checks.txt')"
   ]
  },
  {
   "cell_type": "code",
   "execution_count": null,
   "metadata": {
    "collapsed": true
   },
   "outputs": [],
   "source": []
  }
 ],
 "metadata": {
  "kernelspec": {
   "display_name": "Python 2",
   "language": "python",
   "name": "python2"
  },
  "language_info": {
   "codemirror_mode": {
    "name": "ipython",
    "version": 2
   },
   "file_extension": ".py",
   "mimetype": "text/x-python",
   "name": "python",
   "nbconvert_exporter": "python",
   "pygments_lexer": "ipython2",
   "version": "2.7.8"
  }
 },
 "nbformat": 4,
 "nbformat_minor": 0
}
